{
 "cells": [
  {
   "cell_type": "markdown",
   "source": [
    "<h1>Conceitos introdutórios de Python por Pedro Kpaxo</h1>\n",
    "<p>Primeiros contatos com a linguagem</p>\n",
    "\n"
   ],
   "metadata": {}
  },
  {
   "cell_type": "code",
   "execution_count": 14,
   "source": [
    "# O clássico Hello World \n",
    "# Para fazer comentários em seu código, utilizar o # no começo da linha\n",
    "\n",
    "print('Olá Mundo')"
   ],
   "outputs": [
    {
     "output_type": "stream",
     "name": "stdout",
     "text": [
      "Olá Mundo\n"
     ]
    }
   ],
   "metadata": {}
  },
  {
   "cell_type": "markdown",
   "source": [
    "## Variáveis\n",
    "Uma breve introdução"
   ],
   "metadata": {}
  },
  {
   "cell_type": "code",
   "execution_count": null,
   "source": [
    "# - Para declarar uma variavel no python podemos fazer:\n",
    "\n",
    "var = 30 # - declarando números integrais\n",
    "var_float = 3.0 # - números decimais\n",
    "var_txt = 'Isso é texto' # - Textos e afins"
   ],
   "outputs": [],
   "metadata": {}
  },
  {
   "cell_type": "markdown",
   "source": [
    "### Importante notar que as variáveis vão receber o valor da sua última apresentação."
   ],
   "metadata": {}
  },
  {
   "cell_type": "code",
   "execution_count": 36,
   "source": [
    "var_idade = 1\n",
    "var_idade= 2\n",
    "var_idade = 3\n",
    "var_idade = 4\n",
    "print(var_idade)\n",
    "# - idade vai receber o último valor atribuido, ou seja 4"
   ],
   "outputs": [
    {
     "output_type": "stream",
     "name": "stdout",
     "text": [
      "4\n"
     ]
    }
   ],
   "metadata": {}
  },
  {
   "cell_type": "code",
   "execution_count": 15,
   "source": [
    "# O interpretador python utiliza espaços para se 'localizar'\n",
    "# Chamamos de identação, a quantidade de espaços no começo da linha\n",
    "\n",
    "# - Declarando uma variável qualquer\n",
    "j = 1\n",
    "\n",
    "# - chamando o loop, enquanto j for igual ou menor que cinco, execute o código abaixo\n",
    "while(j<= 5):\n",
    "    # - usar um tab para fazer o espaço do loop\n",
    "\tprint(j)\n",
    "    # - Somar 1 ao valor de j\n",
    "\tj = j + 1\n",
    "    # - Repete o loop, até j <=5\n"
   ],
   "outputs": [
    {
     "output_type": "stream",
     "name": "stdout",
     "text": [
      "1\n",
      "2\n",
      "3\n",
      "4\n",
      "5\n"
     ]
    }
   ],
   "metadata": {}
  },
  {
   "cell_type": "markdown",
   "source": [
    "<h1>Tipos de variáveis"
   ],
   "metadata": {}
  },
  {
   "cell_type": "markdown",
   "source": [
    "<p>Variáveis, são conceitos fundamentais na matemática e na programação.</p>\n",
    "<p>Vamos ver os principais tipos de variáveis da linguagem python.</p>\n",
    "<p>Vamos tambem aprender o comando type(), que nos diz o tipo da variável</p>\n",
    "\n",
    "<p>int, float, string</p>\n"
   ],
   "metadata": {}
  },
  {
   "cell_type": "code",
   "execution_count": 16,
   "source": [
    "# - Strings, ou textos, devem estar dentro de ' ' ou de \" \"\n",
    "\n",
    "nome = 'Pedro'\n",
    "print(nome)\n",
    "# - Utilizando o comando type(), para descobrir o tipo da variável\n",
    "print(type(nome))"
   ],
   "outputs": [
    {
     "output_type": "stream",
     "name": "stdout",
     "text": [
      "Pedro\n",
      "<class 'str'>\n"
     ]
    }
   ],
   "metadata": {}
  },
  {
   "cell_type": "markdown",
   "source": [
    "<h3>Classe String</h3>\n",
    "<p>Aqui vemos que a variável nome é da <strong>classe str</strong>, ou string.</p>\n",
    "<p>O termo classe, é um termo de programação orientada a objetos, algo que vamos explorar muito.</p>\n",
    "<p>Basicamente, um objeto possui métodos e atributos que podem ser aplicados a eles</p>\n",
    "<p>Por exemplo</p>\n",
    "<style>\n",
    "    p{\n",
    "        font-weight:400;\n",
    "\n",
    "    }"
   ],
   "metadata": {}
  },
  {
   "cell_type": "markdown",
   "source": [],
   "metadata": {}
  },
  {
   "cell_type": "code",
   "execution_count": 37,
   "source": [
    "nome_str = str('Pedro K.Paxo')\n",
    "# - Aqui utilizamos o comando, str() para inicializar uma nova instância da classe string\n",
    "print(nome_str)"
   ],
   "outputs": [
    {
     "output_type": "stream",
     "name": "stdout",
     "text": [
      "Pedro K.Paxo\n"
     ]
    }
   ],
   "metadata": {}
  },
  {
   "cell_type": "code",
   "execution_count": 17,
   "source": [
    "# - Utilizando o método upper, para transformar todas as letras em maíusculas\n",
    "# - Métodos, são funções que são aplicadas ao objeto, iremos ver isso depois\n",
    "print(nome.upper())"
   ],
   "outputs": [
    {
     "output_type": "stream",
     "name": "stdout",
     "text": [
      "PEDRO\n"
     ]
    }
   ],
   "metadata": {}
  },
  {
   "cell_type": "code",
   "execution_count": 18,
   "source": [
    "print(nome.count('P')) # - Conta quantas vezes a letra P aparece na string nome\n",
    "print(nome.count('p')) # - Conta quantas vezes a letra p aparece na string nome, python é sensivel a maiuscula e minuscula"
   ],
   "outputs": [
    {
     "output_type": "stream",
     "name": "stdout",
     "text": [
      "1\n",
      "0\n"
     ]
    }
   ],
   "metadata": {}
  },
  {
   "cell_type": "code",
   "execution_count": 19,
   "source": [
    "# - No Jupyyer, podemos imprimir rapidamente, chamando a variável e o método\n",
    "nome[::-1] # - Outra coisa legal que vamos poder entender, é como usar listas. Aguarde os próximos capitulos"
   ],
   "outputs": [
    {
     "output_type": "execute_result",
     "data": {
      "text/plain": [
       "'ordeP'"
      ]
     },
     "metadata": {},
     "execution_count": 19
    }
   ],
   "metadata": {}
  },
  {
   "cell_type": "markdown",
   "source": [
    "### Utilizando Formatação de String\n",
    "\n",
    "Vamos utilizar uma f string, para fazer uma formatação simples"
   ],
   "metadata": {}
  },
  {
   "cell_type": "code",
   "execution_count": 20,
   "source": [
    "# - f strings obedecem ao padrão f'{variavel}'.\n",
    "msg_boasvindas = f'Bem vindo {nome}, esse notebook é seu.'\n",
    "\n",
    "# - Note que a variável nome vai entre colchetes, e a string começa com f\n",
    "\n",
    "print(msg_boasvindas)"
   ],
   "outputs": [
    {
     "output_type": "stream",
     "name": "stdout",
     "text": [
      "Bem vindo Pedro, esse notebook é seu.\n"
     ]
    }
   ],
   "metadata": {}
  },
  {
   "cell_type": "markdown",
   "source": [
    "<h3>Classe Int</h3>\n",
    "<p>Aqui vemos que a variável idade é da <strong>classe Int</strong>, ou Integral.</p>\n",
    "<p>A classe Int é utilizada para números inteiros.</p>\n",
    "<p>Vamos ver alguns exemplos</p>\n",
    "<style>\n",
    "    p{\n",
    "        font-weight:400;\n",
    "\n",
    "    }"
   ],
   "metadata": {}
  },
  {
   "cell_type": "code",
   "execution_count": 34,
   "source": [
    "idade = 30\n",
    "# - poderiamos dizer ainda\n",
    "idade = int(30)\n",
    "print(idade)\n",
    "# - Usando novamente o comando type, é muito útil.\n",
    "print(type(idade))"
   ],
   "outputs": [
    {
     "output_type": "stream",
     "name": "stdout",
     "text": [
      "30\n",
      "<class 'int'>\n"
     ]
    }
   ],
   "metadata": {}
  },
  {
   "cell_type": "code",
   "execution_count": 22,
   "source": [
    "# - Subtração\n",
    "# - Utilizar o sinal - para executar subtração\n",
    "ano_nascimento = 2021 - idade\n",
    "print(ano_nascimento)"
   ],
   "outputs": [
    {
     "output_type": "stream",
     "name": "stdout",
     "text": [
      "1991\n"
     ]
    }
   ],
   "metadata": {}
  },
  {
   "cell_type": "code",
   "execution_count": 25,
   "source": [
    "# - Soma\n",
    "# - Para fazer uma soma, utilizar +\n",
    "\n",
    "idade_futura = idade+10\n",
    "print(idade_futura)"
   ],
   "outputs": [
    {
     "output_type": "stream",
     "name": "stdout",
     "text": [
      "40\n"
     ]
    }
   ],
   "metadata": {}
  },
  {
   "cell_type": "code",
   "execution_count": 28,
   "source": [
    "# - Multiplicação\n",
    "# - Para realizar multiplicação , utilizar *\n",
    "\n",
    "decada = 1*10\n",
    "seculo = 10*10\n",
    "\n",
    "print(f'Um século possui {seculo} anos. Uma década possui {decada} anos.')"
   ],
   "outputs": [
    {
     "output_type": "stream",
     "name": "stdout",
     "text": [
      "Um século possui 100 anos. Uma década possui 10 anos.\n"
     ]
    }
   ],
   "metadata": {}
  },
  {
   "cell_type": "code",
   "execution_count": 31,
   "source": [
    "# - Divisão\n",
    "# - Para realizar divisão, utilizar /\n",
    "\n",
    "duzia = 12\n",
    "meia_duzia = 12/2\n",
    "\n",
    "print(f'Uma duzia é igual a {duzia}, Meia duzia corresponde a {meia_duzia}')"
   ],
   "outputs": [
    {
     "output_type": "stream",
     "name": "stdout",
     "text": [
      "Uma duzia é igual a 12, Meia duzia corresponde a 6.0\n"
     ]
    }
   ],
   "metadata": {}
  },
  {
   "cell_type": "markdown",
   "source": [
    "#### Importante!!\n",
    "Notar que ao realizar a divisão, a variável meia_duzia aparece com uma casa decimal"
   ],
   "metadata": {}
  },
  {
   "cell_type": "code",
   "execution_count": 32,
   "source": [
    "# - Utilizando novamente o comando type\n",
    "\n",
    "print(type(meia_duzia))"
   ],
   "outputs": [
    {
     "output_type": "stream",
     "name": "stdout",
     "text": [
      "<class 'float'>\n"
     ]
    }
   ],
   "metadata": {}
  },
  {
   "cell_type": "markdown",
   "source": [
    "#### Já temos uma dica do nosso próximo tipo de variável.\n",
    "Float é utilizada para números decimais.\n",
    "\n",
    "Mas antes, vamos explorar como converter variáveis decimais, para variáveis inteiras."
   ],
   "metadata": {}
  },
  {
   "cell_type": "code",
   "execution_count": 33,
   "source": [
    "# - Vamos primeiro imprimir a nossa variável\n",
    "print(meia_duzia)\n",
    "# - agora vamos converter a variável para int, utilizando int()\n",
    "meia_duzia = int(meia_duzia)\n",
    "# - Se lembrar que a variável meia_duzia vai receber o último valor atribuido\n",
    "print(meia_duzia)"
   ],
   "outputs": [
    {
     "output_type": "stream",
     "name": "stdout",
     "text": [
      "6.0\n",
      "6\n"
     ]
    }
   ],
   "metadata": {}
  },
  {
   "cell_type": "markdown",
   "source": [
    "## Explorando Variáveis Float e Int"
   ],
   "metadata": {}
  },
  {
   "cell_type": "code",
   "execution_count": 39,
   "source": [
    "# - Realizando uma divisão simples\n",
    "terco = 100/3\n",
    "# - verificando o resultado da divisão\n",
    "print(terco,type(terco))\n"
   ],
   "outputs": [
    {
     "output_type": "stream",
     "name": "stdout",
     "text": [
      "33.333333333333336 <class 'float'>\n"
     ]
    }
   ],
   "metadata": {}
  },
  {
   "cell_type": "markdown",
   "source": [
    "### Importante !!!\n",
    "\n",
    "Notar que o último valor decimal da variável terco, corresponde a 6, e tem seu valor devido a funções de cálculo numérico que fogem do escopo desse tutorial.\n",
    "\n",
    "Mas é importante notarmos isso!\n",
    "\n"
   ],
   "metadata": {}
  },
  {
   "cell_type": "code",
   "execution_count": 41,
   "source": [
    "# - Aqui vamos converter o número decimal em inteiro\n",
    "print(int(terco))\n",
    "# - Mas não vamos atribuir um novo valor, vamos impimir a variável novamente\n",
    "print(terco)"
   ],
   "outputs": [
    {
     "output_type": "stream",
     "name": "stdout",
     "text": [
      "33\n",
      "33.333333333333336\n"
     ]
    }
   ],
   "metadata": {}
  },
  {
   "cell_type": "markdown",
   "source": [
    "# Recapitulando"
   ],
   "metadata": {}
  },
  {
   "cell_type": "code",
   "execution_count": 42,
   "source": [
    "# - Atribuindo Variáveis\n",
    "\n",
    "nova_variavel = 333\n",
    "\n",
    "# - Realizando operações\n",
    "\n",
    "operacao = (nova_variavel * 10 ) /3\n",
    "\n",
    "# - Imprimindo resultados\n",
    "\n",
    "print(operacao)"
   ],
   "outputs": [
    {
     "output_type": "stream",
     "name": "stdout",
     "text": [
      "1110.0\n"
     ]
    }
   ],
   "metadata": {}
  },
  {
   "cell_type": "code",
   "execution_count": 46,
   "source": [
    "# Realizando conversões sem modificar a variável\n",
    "\n",
    "print(f'Converter, sem modificar a variavel operacao {int(operacao)}'  )\n",
    "print(operacao)"
   ],
   "outputs": [
    {
     "output_type": "stream",
     "name": "stdout",
     "text": [
      "Converter, sem modificar a variavel operacao 1110\n",
      "1110.0\n"
     ]
    }
   ],
   "metadata": {}
  },
  {
   "cell_type": "code",
   "execution_count": 47,
   "source": [
    "# - Atribuindo novos valores para a variável \n",
    "# - A mesma variável agora recebe o valor da conversão\n",
    "operacao = int(operacao)\n",
    "print(operacao)"
   ],
   "outputs": [
    {
     "output_type": "stream",
     "name": "stdout",
     "text": [
      "1110\n"
     ]
    }
   ],
   "metadata": {}
  },
  {
   "cell_type": "markdown",
   "source": [
    "## Recapitulando f strings\n",
    "\n",
    "E lembrando que um notebook armazena as variáveis em seu kernel.\n",
    "Por isso, podemos referenciar uma variável declarada anteriormente, aqui"
   ],
   "metadata": {}
  },
  {
   "cell_type": "code",
   "execution_count": 27,
   "source": [
    "# - Usando f string com idade e nome\n",
    "msg_boasvindas_idade = f'Seja bem vindo {nome}, você tem {idade}, e nasceu em {ano_nascimento}. Daqui a 10 você terá {idade_futura} anos.'\n",
    "print(msg_boasvindas_idade)"
   ],
   "outputs": [
    {
     "output_type": "stream",
     "name": "stdout",
     "text": [
      "Seja bem vindo Pedro, você tem 30, e nasceu em 1991. Daqui a 10 você terá 40 anos.\n"
     ]
    }
   ],
   "metadata": {}
  }
 ],
 "metadata": {
  "orig_nbformat": 4,
  "language_info": {
   "name": "python",
   "version": "3.9.7",
   "mimetype": "text/x-python",
   "codemirror_mode": {
    "name": "ipython",
    "version": 3
   },
   "pygments_lexer": "ipython3",
   "nbconvert_exporter": "python",
   "file_extension": ".py"
  },
  "kernelspec": {
   "name": "python3",
   "display_name": "Python 3.9.7 64-bit"
  },
  "interpreter": {
   "hash": "aee8b7b246df8f9039afb4144a1f6fd8d2ca17a180786b69acc140d282b71a49"
  }
 },
 "nbformat": 4,
 "nbformat_minor": 2
}